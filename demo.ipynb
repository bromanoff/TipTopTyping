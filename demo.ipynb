{
 "cells": [
  {
   "cell_type": "markdown",
   "metadata": {},
   "source": [
    "# Demo Environment\n",
    "\n",
    "## Description Lorem ipsum"
   ]
  },
  {
   "cell_type": "code",
   "execution_count": null,
   "metadata": {},
   "outputs": [],
   "source": [
    "# Import Statements\n",
    "\n",
    "import cv2\n",
    "from PIL import ImageFont, ImageDraw, Image  \n",
    "import mediapipe as mp\n",
    "# from subprocess import call\n",
    "import numpy as np\n",
    "from trie import Trie, TrieNode\n",
    "import math\n",
    "from playsound import playsound"
   ]
  },
  {
   "cell_type": "code",
   "execution_count": null,
   "metadata": {},
   "outputs": [],
   "source": [
    "# Video setup\n",
    "videoCap = cv2.VideoCapture(0)\n",
    "img = videoCap.read()\n",
    "lastFrameTime = 0\n",
    "frame = 0\n",
    "\n",
    "# PIL handover for text on image\n",
    "cv2_img_rgb = cv2.cvtColor(img,cv2.COLOR_BGR2RGB) \n",
    "pil_img = Image.fromarray(cv2_img_rgb)  \n",
    "draw = ImageDraw.Draw(pil_img)  \n",
    "font = ImageFont.truetype(\"fonts/RobotoMono-Regular.ttf\", 50) # use a truetype font \n",
    "cv2_img_processed = cv2.cvtColor(np.array(pil_img), cv2.COLOR_RGB2BGR) \n"
   ]
  },
  {
   "cell_type": "code",
   "execution_count": null,
   "metadata": {},
   "outputs": [],
   "source": [
    "# Hand Detection Setup\n",
    "handSolution = mp.solutions.hands\n",
    "hands = handSolution.Hands()"
   ]
  },
  {
   "cell_type": "code",
   "execution_count": null,
   "metadata": {},
   "outputs": [],
   "source": [
    "# Palm facing mental model \n",
    "CHAR_DICT = {\"Right\": {\n",
    "    \t\t\t0: [\"qwert\", False],\n",
    "                1: [\"asdf\", False],\n",
    "                2: [\"zxc\", False],\n",
    "                3: [\"SPACE\", False]},\n",
    "       \t\t\"Left\": {\n",
    "             \t0: [\"yuiop\", False],\n",
    "                1: [\"ghjkl\", False],\n",
    "                2: [\"vbnm\", False],\n",
    "                3: [\"<-\", False]}}\n",
    "\n",
    "LANGUAGE = [\"hut\", \"haus\", \"haut\", \"mut\", \"maus\", \"maut\", \"mann\", \"hello\", \"world\"]  "
   ]
  },
  {
   "cell_type": "code",
   "execution_count": null,
   "metadata": {},
   "outputs": [],
   "source": [
    "# Trie Datastruture to store and query language\n",
    "trie = Trie()\n",
    "trie.extend(LANGUAGE)"
   ]
  },
  {
   "cell_type": "code",
   "execution_count": null,
   "metadata": {},
   "outputs": [],
   "source": [
    "# Writing setup\n",
    "input_msg = []\n",
    "output_msg = \"\"\n",
    "line_pos_x = [400, 430]\n",
    "\n",
    "# pull random phrase from phrases2.txt and save it in a variable\n",
    "with open(\"phrases/phrases2.txt\", \"r\") as f:\n",
    "    phrases = f.readlines()\n",
    "    test_phrase = phrases[np.random.randint(0, len(phrases))].strip()\n",
    "\n",
    "phrase_chars = {}\n",
    "for idx, symbol in enumerate(test_phrase):\n",
    "    phrase_chars[idx] = [idx * 30, symbol, (105, 105, 105)]"
   ]
  },
  {
   "cell_type": "code",
   "execution_count": null,
   "metadata": {},
   "outputs": [],
   "source": [
    "# Function definitions\n",
    "\n",
    "def distance(pos1, pos2): #pos = (x, y)\n",
    "    Distance = int(math.sqrt(((pos2[0] - pos1[0]) * (pos2[0] - pos1[0])) + ((pos2[1] - pos1[1]) * (pos2[1] - pos1[1]))))\n",
    "    return Distance\n",
    "\n",
    "def write_char(hand, target):\n",
    "    global input_msg\n",
    "    global output_msg\n",
    "    if not target == 3: #pinky\n",
    "        input_msg.append(CHAR_DICT[hand][target][0])\n",
    "        line_pos_x[0] += 30\n",
    "        line_pos_x[1] += 30\n",
    "        CHAR_DICT[hand][target][1] = True\n",
    "        if len(input_msg) >= 0: # coloring displayed sentence and soundFX when user types\n",
    "            if test_phrase[len(input_msg)-1] in input_msg[len(input_msg)-1]:\n",
    "                phrase_chars[len(input_msg)-1][2] = (0, 255, 0)\n",
    "                playsound(\"/Users/romanbeier/Documents/Education/Master/TU Wien/04-Master-SoSe23/Masterthesis/Code/tip-top-typing/soundFX/key_press_click.caf\")\n",
    "            else:\n",
    "                phrase_chars[len(input_msg)-1][2] = (255, 0, 0)\n",
    "                playsound(\"/Users/romanbeier/Documents/Education/Master/TU Wien/04-Master-SoSe23/Masterthesis/Code/tip-top-typing/soundFX/keyboard_press_normal.caf\")\n",
    "    else:\n",
    "        match hand:\n",
    "            case \"Right\":\n",
    "                input_msg += \" \"\n",
    "                output_msg += \" \"\n",
    "                line_pos_x[0] += 30\n",
    "                line_pos_x[1] += 30\n",
    "                playsound(\"soundFX/key_press_click.caf\")\n",
    "                CHAR_DICT[hand][target][1] = True\n",
    "            case \"Left\":\n",
    "                CHAR_DICT[hand][target][1] = True\n",
    "                try:\n",
    "                    phrase_chars[len(input_msg)-1][2] = (105, 105, 105) # turn deleted character gray again\n",
    "                    input_msg = input_msg[:-1]\n",
    "                    output_msg = output_msg[:-1]\n",
    "                    line_pos_x[0] -= 30\n",
    "                    line_pos_x[1] -= 30\n",
    "                    playsound(\"soundFX/key_press_delete.caf\")\n",
    "                except KeyError:\n",
    "                    pass\n",
    "\n",
    "    print(f\"Input Message: {input_msg}\")\n",
    "    \n",
    "def char_written(hand, target):\n",
    "    if CHAR_DICT[hand][target][1] == False:\n",
    "        return False\n",
    "    else:\n",
    "        return True\n",
    "\n",
    "def vector(t1, t2):\n",
    "    x = t2[0] - t1[0]\n",
    "    y = t2[1] - t1[1]\n",
    "    z = t2[2] - t1[2]\n",
    "    return (x, y, z)\n",
    "\n",
    "def print_phrase(phrase): # for printing self written phrase on image\n",
    "    position = 0\n",
    "    for char in phrase:\n",
    "        cv2.putText(cv2_img_processed, char, ((400 + position), 940), cv2.FONT_HERSHEY_SIMPLEX, 1.5, (0, 0, 0), 2)\n",
    "        position += 30"
   ]
  },
  {
   "cell_type": "code",
   "execution_count": null,
   "metadata": {},
   "outputs": [],
   "source": [
    "# Main Loop\n",
    "\n",
    "while True:\n",
    "    frame += 1\n",
    "    success, img = videoCap.read() #reading image\n",
    "    # img = cv2.flip(img, 1) #mirror image\n",
    "    # img = cv2.flip(img, -1) #flip image in both directions\n",
    "    \n",
    "    # UI\n",
    "    cv2.rectangle(img, (200,880), (1720,980), (255,255,255), -1) #draw rectangle for text\n",
    "    # cv2.putText(img, test_phrase, (400, 940), cv2.FONT_HERSHEY_SIMPLEX, 1.5, (0, 0, 0), 2) #put test phrase on image\n",
    "    \n",
    "    for char in phrase_chars.values():\n",
    "        draw.text(((400 + char[0]), 890), char[1], font=font, fill=char[2])\n",
    "    cv2.line(cv2_img_processed,(line_pos_x[0], 960),(line_pos_x[1], 960),(105,105,105),5) #draw line for input message\n",
    "    \n",
    "    #fps calculations\n",
    "    thisFrameTime = time.time()\n",
    "    fps = 1 / (thisFrameTime - lastFrameTime)\n",
    "    lastFrameTime = thisFrameTime\n",
    "    cv2.putText(cv2_img_processed, f'FPS:{int(fps)}',\n",
    "        (20, 70),\n",
    "        cv2.FONT_HERSHEY_SIMPLEX, 1, (0, 255, 0), 2)\n",
    "    \n",
    "    #wpm calculations\n",
    "    # TODO: Implement wpm calculations\n",
    "    wpm = 0\n",
    "    cv2.putText(cv2_img_processed, f'FPS:{int(fps)}',\n",
    "        (20, 70),\n",
    "        cv2.FONT_HERSHEY_SIMPLEX, 1, (0, 255, 0), 2)\n",
    "    \n",
    "    #recognize hands from out image\n",
    "    recHands = hands.process(img)\n",
    "    multi_hand_landmarks_list = recHands.multi_hand_landmarks\n",
    "    multi_handedness_list = recHands.multi_handedness\n",
    "    \n",
    "    if recHands.multi_hand_landmarks:   # if there are any hands recognized\n",
    "        \n",
    "        for idx in range(len(multi_hand_landmarks_list)):     # for each hand recognized\n",
    "            hand_landmarks = multi_hand_landmarks_list[idx]   # get the hand landmarks\n",
    "            handedness = multi_handedness_list[idx]           # get the handedness\n",
    "            hand_label = handedness.classification[0].label   # get the hand label (left or right)\n",
    "            \n",
    "            height, width, _ = img.shape\n",
    "            thumb_pos = (hand_landmarks.landmark[4].x * width, hand_landmarks.landmark[4].y * height)\n",
    "            # print(\"thumb y-pos: \", hand_landmarks.landmark[4].y * height, \"thumb x-pos: \", hand_landmarks.landmark[4].x * width, \"thumb-z-pos: \", hand_landmarks.landmark[4].z)\n",
    "            \n",
    "            # Calculate thumb top position\n",
    "            thumb_tip_3d = (hand_landmarks.landmark[4].x * width, hand_landmarks.landmark[4].y * height, hand_landmarks.landmark[4].z)\n",
    "            thumb_ip_3d = (hand_landmarks.landmark[3].x * width, hand_landmarks.landmark[3].y * height, hand_landmarks.landmark[3].z)\n",
    "            thumb_vector = vector(thumb_ip_3d, thumb_tip_3d)\n",
    "            thumb_vector = (thumb_vector[0] * 0.3, thumb_vector[1] * 0.3, thumb_vector[2] * 0.3) # scale vector\n",
    "            thumb_top = ((thumb_tip_3d[0] + thumb_vector[0]), (thumb_tip_3d[1] + thumb_vector[1]), (thumb_tip_3d[2] + thumb_vector[2]))\n",
    "            \n",
    "            # Reset input message when pinky tips touch\n",
    "            if hand_label == \"Left\":\n",
    "                left_pinky_tip_pos = ((hand_landmarks.landmark[20].x * width), (hand_landmarks.landmark[20].y * height))\n",
    "            if hand_label == \"Right\":\n",
    "                right_pinky_tip_pos = ((hand_landmarks.landmark[20].x * width), (hand_landmarks.landmark[20].y * height))\n",
    "            \n",
    "            try: #exception handling for first iteration with uncomputed right pinky tip\n",
    "                if distance(left_pinky_tip_pos, right_pinky_tip_pos) <= 20 and not input_msg == []:\n",
    "                    input_msg = []\n",
    "                    for char in phrase_chars:\n",
    "                        phrase_chars[char][2] = (0, 0, 0)\n",
    "                    cv2.putText(cv2_img_processed, \"Input message cleared\", (800, 1030), cv2.FONT_HERSHEY_SIMPLEX, 1, (0, 0, 0), 2)\n",
    "                    line_pos_x = [400, 430]\n",
    "                    print(\"Input message cleared\")\n",
    "                    playsound(\"soundFX/keyboard_press_clear.caf\")\n",
    "                    time.sleep(0.1)\n",
    "            except NameError:\n",
    "                continue\n",
    "            \n",
    "            # Thumb Annotations\n",
    "            cv2.circle(cv2_img_processed, (int(thumb_top[0]), int(thumb_top[1])), 5, (0, 0, 255), -1) # Draw Circles on elongatetd thumb top position\n",
    "                        \n",
    "            \n",
    "            # Calculate landmark positions for thumb and finger tips, except pinky [from:to:increment]  \n",
    "            for idx, point in enumerate(hand_landmarks.landmark[8:21:4]):      \n",
    "                h, w, c = img.shape \n",
    "                # landmark_pos = (int(point.x * w), int(point.y * h))\n",
    "                landmark_pos = (point.x * w, point.y * h)\n",
    "                \n",
    "                cv2.putText(cv2_img_processed, CHAR_DICT[hand_label][idx][0], (int(landmark_pos[0]), int(landmark_pos[1])), cv2.FONT_HERSHEY_PLAIN, 2, (0, 255, 255), 2)\n",
    "                \n",
    "                \n",
    "                # TODO: Add a variable threshold for distance between thumb and finger tips based on possible next characters, PERMUTATIONS?\n",
    "                # TODO: OR: Only allow characters that are child nodes of chars in input_msg\n",
    "                \n",
    "                if distance(thumb_top, landmark_pos) <= 70 and not char_written(hand_label, idx):\n",
    "                    write_char(hand_label, idx)\n",
    "                    if len(input_msg) == len(test_phrase): # if input message is as long as test phrase, check if correct                 \n",
    "                        with open(\"phrases/phrases2.txt\", \"r\") as f:\n",
    "                            phrases = f.readlines()\n",
    "                            test_phrase = phrases[np.random.randint(0, len(phrases))].strip()\n",
    "                        input_msg = []\n",
    "                        phrase_chars = {}\n",
    "                        line_pos_x = [400, 430]\n",
    "                        for idx, symbol in enumerate(test_phrase):\n",
    "                            phrase_chars[idx] = [idx * 30, symbol, (105, 105, 105)]\n",
    "\n",
    "                    \n",
    "                elif distance(thumb_top, landmark_pos) <= 70 and char_written:\n",
    "                    pass\n",
    "                                    \n",
    "                elif distance(thumb_top, landmark_pos) > 120 and char_written(hand_label, idx):\n",
    "                    CHAR_DICT[hand_label][idx][1] = False"
   ]
  },
  {
   "cell_type": "code",
   "execution_count": null,
   "metadata": {},
   "outputs": [],
   "source": [
    "# Keep Video running\n",
    "cv2.imshow(\"Cam Output\", img)\n",
    "cv2.waitKey(1)       "
   ]
  },
  {
   "cell_type": "code",
   "execution_count": null,
   "metadata": {},
   "outputs": [],
   "source": [
    "completed_words = 1\n",
    "cut_input_sequence = lambda input_sequence : input_sequence[input_sequence.index(' ')+1:] if completed_words != 0 else input_sequence # lambda function for validating clean inputs\n",
    "test_list = [\"abc\", ' ', \"def\", ' ']\n",
    "print(test_list.index(' '))\n",
    "print(cut_input_sequence(test_list))\n"
   ]
  },
  {
   "cell_type": "code",
   "execution_count": 28,
   "metadata": {},
   "outputs": [
    {
     "name": "stdout",
     "output_type": "stream",
     "text": [
      "hello wo\n"
     ]
    }
   ],
   "source": [
    "test_phrase = \"hello world\"\n",
    "msg = \"hello vo\"\n",
    "msg_length = len(msg)\n",
    "if msg in test_phrase:                # if output message is equal to test phrase\n",
    "    print(\"passed\")\n",
    "    pass\n",
    "else:\n",
    "    try:\n",
    "        msg = msg.replace(msg[-2:], test_phrase[msg_length-2:msg_length])\n",
    "    except IndexError:\n",
    "        pass\n",
    "    \n",
    "print(msg)"
   ]
  },
  {
   "cell_type": "code",
   "execution_count": 29,
   "metadata": {},
   "outputs": [
    {
     "name": "stdout",
     "output_type": "stream",
     "text": [
      "te\n"
     ]
    }
   ],
   "source": [
    "test = \"test\"\n",
    "print(test[:2])"
   ]
  },
  {
   "cell_type": "code",
   "execution_count": 47,
   "metadata": {},
   "outputs": [
    {
     "name": "stdout",
     "output_type": "stream",
     "text": [
      "['my', 'watch', 'fell', 'in', 'the', 'water', 'prevailing', 'wind', 'from', 'the', 'east', 'never', 'too', 'rich', 'and', 'never', 'too', 'thin', 'breathing', 'is', 'difficult', 'i', 'can', 'see', 'the', 'rings', 'on', 'saturn', 'physics', 'and', 'chemistry', 'are', 'hard', 'my', 'bank', 'account', 'is', 'overdrawn', 'elections', 'bring', 'out', 'the', 'best', 'we', 'are', 'having', 'spaghetti', 'time', 'to', 'go', 'shopping', 'a', 'problem', 'with', 'the', 'engine', 'elephants', 'are', 'afraid', 'of', 'mice', 'my', 'favorite', 'place', 'to', 'visit', 'three', 'two', 'one', 'zero', 'blast', 'off', 'my', 'favorite', 'subject', 'is', 'psychology', 'circumstances', 'are', 'unacceptable', 'watch', 'out', 'for', 'low', 'flying', 'objects', 'if', 'at', 'first', 'you', 'do', 'not', 'succeed', 'please', 'provide', 'your', 'date', 'of', 'birth', 'we', 'run', 'the', 'risk', 'of', 'failure', 'prayer', 'in', 'schools', 'offends', 'some', 'he', 'is', 'just', 'like', 'everyone', 'else', 'great', 'disturbance', 'in', 'the', 'force', 'love', 'means', 'many', 'things', 'you', 'must', 'be', 'getting', 'old', 'the', 'world', 'is', 'a', 'stage', 'can', 'i', 'skate', 'with', 'sister', 'today', 'neither', 'a', 'borrower', 'nor', 'a', 'lender', 'be', 'one', 'heck', 'of', 'a', 'question', 'question', 'that', 'must', 'be', 'answered', 'beware', 'the', 'ides', 'of', 'march', 'double', 'double', 'toil', 'and', 'trouble', 'the', 'power', 'of', 'denial', 'i', 'agree', 'with', 'you', 'do', 'not', 'say', 'anything', 'play', 'it', 'again', 'sam', 'the', 'force', 'is', 'with', 'you', 'you', 'are', 'not', 'a', 'jedi', 'yet', 'an', 'offer', 'you', 'cannot', 'refuse', 'are', 'you', 'talking', 'to', 'me', 'yes', 'you', 'are', 'very', 'smart', 'all', 'work', 'and', 'no', 'play', 'hair', 'gel', 'is', 'very', 'greasy', 'valium', 'in', 'the', 'economy', 'size', 'the', 'facts', 'get', 'in', 'the', 'way', 'the', 'dreamers', 'of', 'dreams', 'did', 'you', 'have', 'a', 'good', 'time', 'space', 'is', 'a', 'high', 'priority', 'you', 'are', 'a', 'wonderful', 'example', 'do', 'not', 'squander', 'your', 'time', 'do', 'not', 'drink', 'too', 'much', 'take', 'a', 'coffee', 'break', 'popularity', 'is', 'desired', 'by', 'all', 'the', 'music', 'is', 'better', 'than', 'it', 'sounds', 'starlight', 'and', 'dewdrop', 'the', 'living', 'is', 'easy', 'fish', 'are', 'jumping', 'the', 'cotton', 'is', 'high', 'drove', 'my', 'chevy', 'to', 'the', 'levee', 'but', 'the', 'levee', 'was', 'dry', 'i', 'took', 'the', 'rover', 'from', 'the', 'shop', 'movie', 'about', 'a', 'nutty', 'professor', 'come', 'and', 'see', 'our', 'new', 'car', 'coming', 'up', 'with', 'killer', 'sound', 'bites', 'i', 'am', 'going', 'to', 'a', 'music', 'lesson', 'the', 'opposing', 'team', 'is', 'over', 'there', 'soon', 'we', 'will', 'return', 'from', 'the', 'city', 'i', 'am', 'wearing', 'a', 'tie', 'and', 'a', 'jacket', 'the', 'quick', 'brown', 'fox', 'jumped', 'all', 'together', 'in', 'one', 'big', 'pile', 'wear', 'a', 'crown', 'with', 'many', 'jewels', 'there', 'will', 'be', 'some', 'fog', 'tonight', 'i', 'am', 'allergic', 'to', 'bees', 'and', 'peanuts', 'he', 'is', 'still', 'on', 'our', 'team', 'the', 'dow', 'jones', 'index', 'has', 'risen', 'my', 'preferred', 'treat', 'is', 'chocolate', 'the', 'king', 'sends', 'you', 'to', 'the', 'tower', 'we', 'are', 'subjects', 'and', 'must', 'obey', 'mom', 'made', 'her', 'a', 'turtleneck', 'goldilocks', 'and', 'the', 'three', 'bears', 'we', 'went', 'grocery', 'shopping', 'the', 'assignment', 'is', 'due', 'today', 'what', 'you', 'see', 'is', 'what', 'you', 'get', 'for', 'your', 'information', 'only', 'a', 'quarter', 'of', 'a', 'century', 'the', 'store', 'will', 'close', 'at', 'ten', 'head', 'shoulders', 'knees', 'and', 'toes', 'vanilla', 'flavored', 'ice', 'cream', 'frequently', 'asked', 'questions', 'round', 'robin', 'scheduling', 'information', 'super', 'highway', 'my', 'favorite', 'web', 'browser', 'the', 'laser', 'printer', 'is', 'jammed', 'all', 'good', 'boys', 'deserve', 'fudge', 'the', 'second', 'largest', 'country', 'call', 'for', 'more', 'details', 'just', 'in', 'time', 'for', 'the', 'party', 'have', 'a', 'good', 'weekend', 'video', 'camera', 'with', 'a', 'zoom', 'lens', 'what', 'a', 'monkey', 'sees', 'a', 'monkey', 'will', 'do', 'that', 'is', 'very', 'unfortunate', 'the', 'back', 'yard', 'of', 'our', 'house', 'this', 'is', 'a', 'very', 'good', 'idea', 'reading', 'week', 'is', 'just', 'about', 'here', 'our', 'fax', 'number', 'has', 'changed', 'thank', 'you', 'for', 'your', 'help', 'no', 'exchange', 'without', 'a', 'bill', 'the', 'early', 'bird', 'gets', 'the', 'worm', 'buckle', 'up', 'for', 'safety', 'this', 'is', 'too', 'much', 'to', 'handle', 'protect', 'your', 'environment', 'world', 'population', 'is', 'growing', 'the', 'library', 'is', 'closed', 'today', 'mary', 'had', 'a', 'little', 'lamb', 'teaching', 'services', 'will', 'help', 'we', 'accept', 'personal', 'checks', 'this', 'is', 'a', 'non', 'profit', 'organization', 'user', 'friendly', 'interface', 'healthy', 'food', 'is', 'good', 'for', 'you', 'hands', 'on', 'experience', 'with', 'a', 'job', 'this', 'watch', 'is', 'too', 'expensive', 'the', 'postal', 'service', 'is', 'very', 'slow', 'communicate', 'through', 'email', 'the', 'capital', 'of', 'our', 'nation', 'travel', 'at', 'the', 'speed', 'of', 'light', 'i', 'do', 'not', 'fully', 'agree', 'with', 'you', 'gas', 'bills', 'are', 'sent', 'monthly', 'earth', 'quakes', 'are', 'predictable', 'life', 'is', 'but', 'a', 'dream', 'take', 'it', 'to', 'the', 'recycling', 'depot', 'sent', 'this', 'by', 'registered', 'mail', 'fall', 'is', 'my', 'favorite', 'season', 'a', 'fox', 'is', 'a', 'very', 'smart', 'animal', 'the', 'kids', 'are', 'very', 'excited', 'parking', 'lot', 'is', 'full', 'of', 'trucks', 'my', 'bike', 'has', 'a', 'flat', 'tire', 'do', 'not', 'walk', 'too', 'quickly', 'a', 'duck', 'quacks', 'to', 'ask', 'for', 'food', 'limited', 'warranty', 'of', 'two', 'years', 'the', 'four', 'seasons', 'will', 'come', 'the', 'sun', 'rises', 'in', 'the', 'east', 'it', 'is', 'very', 'windy', 'today', 'do', 'not', 'worry', 'about', 'this', 'dashing', 'through', 'the', 'snow', 'want', 'to', 'join', 'us', 'for', 'lunch', 'stay', 'away', 'from', 'strangers', 'accompanied', 'by', 'an', 'adult', 'see', 'you', 'later', 'alligator', 'make', 'my', 'day', 'you', 'sucker', 'i', 'can', 'play', 'much', 'better', 'now', 'she', 'wears', 'too', 'much', 'makeup', 'my', 'bare', 'face', 'in', 'the', 'wind', 'batman', 'wears', 'a', 'cape', 'i', 'hate', 'baking', 'pies', 'lydia', 'wants', 'to', 'go', 'home', 'win', 'first', 'prize', 'in', 'the', 'contest', 'freud', 'wrote', 'of', 'the', 'ego', 'i', 'do', 'not', 'care', 'if', 'you', 'do', 'that', 'always', 'cover', 'all', 'the', 'bases', 'nobody', 'cares', 'anymore', 'can', 'we', 'play', 'cards', 'tonight', 'get', 'rid', 'of', 'that', 'immediately', 'i', 'watched', 'blazing', 'saddles', 'the', 'sum', 'of', 'the', 'parts', 'they', 'love', 'to', 'yap', 'about', 'nothing', 'peek', 'out', 'the', 'window', 'be', 'home', 'before', 'midnight', 'he', 'played', 'a', 'pimp', 'in', 'that', 'movie', 'i', 'skimmed', 'through', 'your', 'proposal', 'he', 'was', 'wearing', 'a', 'sweatshirt', 'no', 'more', 'war', 'no', 'more', 'bloodshed', 'toss', 'the', 'ball', 'around', 'i', 'will', 'meet', 'you', 'at', 'noon', 'i', 'want', 'to', 'hold', 'your', 'hand', 'the', 'children', 'are', 'playing', 'superman', 'never', 'wore', 'a', 'mask', 'i', 'listen', 'to', 'the', 'tape', 'everyday', 'he', 'is', 'shouting', 'loudly', 'correct', 'your', 'diction', 'immediately', 'seasoned', 'golfers', 'love', 'the', 'game', 'he', 'cooled', 'off', 'after', 'she', 'left', 'my', 'dog', 'sheds', 'his', 'hair', 'join', 'us', 'on', 'the', 'patio', 'these', 'cookies', 'are', 'so', 'amazing', 'i', 'can', 'still', 'feel', 'your', 'presence', 'the', 'dog', 'will', 'bite', 'you', 'a', 'most', 'ridiculous', 'thing', 'where', 'did', 'you', 'get', 'that', 'tie', 'what', 'a', 'lovely', 'red', 'jacket', 'do', 'you', 'like', 'to', 'shop', 'on', 'sunday', 'i', 'spilled', 'coffee', 'on', 'the', 'carpet', 'the', 'largest', 'of', 'the', 'five', 'oceans', 'shall', 'we', 'play', 'a', 'round', 'of', 'cards', 'olympic', 'athletes', 'use', 'drugs', 'my', 'mother', 'makes', 'good', 'cookies', 'do', 'a', 'good', 'deed', 'to', 'someone', 'quick', 'there', 'is', 'someone', 'knocking', 'flashing', 'red', 'light', 'means', 'stop', 'sprawling', 'subdivisions', 'are', 'bad', 'where', 'did', 'i', 'leave', 'my', 'glasses', 'on', 'the', 'way', 'to', 'the', 'cottage', 'a', 'lot', 'of', 'chlorine', 'in', 'the', 'water', 'do', 'not', 'drink', 'the', 'water', 'my', 'car', 'always', 'breaks', 'in', 'the', 'winter', 'santa', 'claus', 'got', 'stuck', 'public', 'transit', 'is', 'much', 'faster', 'zero', 'in', 'on', 'the', 'facts', 'make', 'up', 'a', 'few', 'more', 'phrases', 'my', 'fingers', 'are', 'very', 'cold', 'rain', 'rain', 'go', 'away', 'bad', 'for', 'the', 'environment', 'universities', 'are', 'too', 'expensive', 'the', 'price', 'of', 'gas', 'is', 'high', 'the', 'winner', 'of', 'the', 'race', 'we', 'drive', 'on', 'parkways', 'we', 'park', 'in', 'driveways', 'go', 'out', 'for', 'some', 'pizza', 'and', 'beer', 'effort', 'is', 'what', 'it', 'will', 'take', 'where', 'can', 'my', 'little', 'dog', 'be', 'if', 'you', 'were', 'not', 'so', 'stupid', 'not', 'quite', 'so', 'smart', 'as', 'you', 'think', 'do', 'you', 'like', 'to', 'go', 'camping', 'this', 'person', 'is', 'a', 'disaster', 'the', 'imagination', 'of', 'the', 'nation', 'universally', 'understood', 'to', 'be', 'wrong', 'listen', 'to', 'five', 'hours', 'of', 'opera', 'an', 'occasional', 'taste', 'of', 'chocolate', 'victims', 'deserve', 'more', 'redress', 'the', 'protesters', 'blocked', 'all', 'traffic', 'the', 'acceptance', 'speech', 'was', 'boring', 'work', 'hard', 'to', 'reach', 'the', 'summit', 'a', 'little', 'encouragement', 'is', 'needed', 'stiff', 'penalty', 'for', 'staying', 'out', 'late', 'the', 'pen', 'is', 'mightier', 'than', 'the', 'sword', 'exceed', 'the', 'maximum', 'speed', 'limit', 'in', 'sharp', 'contrast', 'to', 'your', 'words', 'this', 'leather', 'jacket', 'is', 'too', 'warm', 'consequences', 'of', 'a', 'wrong', 'turn', 'this', 'mission', 'statement', 'is', 'baloney', 'you', 'will', 'loose', 'your', 'voice', 'every', 'apple', 'from', 'every', 'tree', 'are', 'you', 'sure', 'you', 'want', 'this', 'the', 'fourth', 'edition', 'was', 'better', 'this', 'system', 'of', 'taxation', 'beautiful', 'paintings', 'in', 'the', 'gallery', 'a', 'yard', 'is', 'almost', 'as', 'long', 'as', 'a', 'meter', 'we', 'missed', 'your', 'birthday', 'coalition', 'governments', 'never', 'work', 'destruction', 'of', 'the', 'rain', 'forest', 'i', 'like', 'to', 'play', 'tennis', 'acutely', 'aware', 'of', 'her', 'good', 'looks', 'you', 'want', 'to', 'eat', 'your', 'cake', 'machinery', 'is', 'too', 'complicated', 'a', 'glance', 'in', 'the', 'right', 'direction', 'i', 'just', 'cannot', 'figure', 'this', 'out', 'please', 'follow', 'the', 'guidelines', 'an', 'airport', 'is', 'a', 'very', 'busy', 'place', 'mystery', 'of', 'the', 'lost', 'lagoon', 'is', 'there', 'any', 'indication', 'of', 'this', 'the', 'chamber', 'makes', 'important', 'decisions', 'this', 'phenomenon', 'will', 'never', 'occur', 'obligations', 'must', 'be', 'met', 'first', 'valid', 'until', 'the', 'end', 'of', 'the', 'year', 'file', 'all', 'complaints', 'in', 'writing', 'tickets', 'are', 'very', 'expensive', 'a', 'picture', 'is', 'worth', 'many', 'words', 'this', 'camera', 'takes', 'nice', 'photographs', 'it', 'looks', 'like', 'a', 'shack', 'the', 'dog', 'buried', 'the', 'bone', 'the', 'daring', 'young', 'man', 'this', 'equation', 'is', 'too', 'complicated', 'express', 'delivery', 'is', 'very', 'fast', 'i', 'will', 'put', 'on', 'my', 'glasses', 'a', 'touchdown', 'in', 'the', 'last', 'minute', 'the', 'treasury', 'department', 'is', 'broke', 'a', 'good', 'response', 'to', 'the', 'question', 'well', 'connected', 'with', 'people', 'the', 'bathroom', 'is', 'good', 'for', 'reading', 'the', 'generation', 'gap', 'gets', 'wider', 'chemical', 'spill', 'took', 'forever', 'prepare', 'for', 'the', 'exam', 'in', 'advance', 'interesting', 'observation', 'was', 'made', 'bank', 'transaction', 'was', 'not', 'registered', 'your', 'etiquette', 'needs', 'some', 'work', 'we', 'better', 'investigate', 'this', 'stability', 'of', 'the', 'nation', 'house', 'with', 'new', 'electrical', 'panel', 'our', 'silver', 'anniversary', 'is', 'coming', 'the', 'presidential', 'suite', 'is', 'very', 'busy', 'the', 'punishment', 'should', 'fit', 'the', 'crime', 'sharp', 'cheese', 'keeps', 'the', 'mind', 'sharp', 'the', 'registration', 'period', 'is', 'over', 'you', 'have', 'my', 'sympathy', 'the', 'objective', 'of', 'the', 'exercise', 'historic', 'meeting', 'without', 'a', 'result', 'very', 'reluctant', 'to', 'enter', 'good', 'at', 'addition', 'and', 'subtraction', 'six', 'daughters', 'and', 'seven', 'sons', 'a', 'thoroughly', 'disgusting', 'thing', 'to', 'say', 'sign', 'the', 'withdrawal', 'slip', 'relations', 'are', 'very', 'strained', 'the', 'minimum', 'amount', 'of', 'time', 'a', 'very', 'traditional', 'way', 'to', 'dress', 'the', 'aspirations', 'of', 'a', 'nation', 'medieval', 'times', 'were', 'very', 'hard', 'a', 'security', 'force', 'of', 'eight', 'thousand', 'there', 'are', 'winners', 'and', 'losers', 'the', 'voters', 'turfed', 'him', 'out', 'pay', 'off', 'a', 'mortgage', 'for', 'a', 'house', 'the', 'collapse', 'of', 'the', 'roman', 'empire', 'did', 'you', 'see', 'that', 'spectacular', 'explosion', 'keep', 'receipts', 'for', 'all', 'your', 'expenses', 'the', 'assault', 'took', 'six', 'months', 'get', 'your', 'priorities', 'in', 'order', 'traveling', 'requires', 'a', 'lot', 'of', 'fuel', 'longer', 'than', 'a', 'football', 'field', 'a', 'good', 'joke', 'deserves', 'a', 'good', 'laugh', 'the', 'union', 'will', 'go', 'on', 'strike', 'never', 'mix', 'religion', 'and', 'politics', 'interactions', 'between', 'men', 'and', 'women', 'where', 'did', 'you', 'get', 'such', 'a', 'silly', 'idea', 'it', 'should', 'be', 'sunny', 'tomorrow', 'a', 'psychiatrist', 'will', 'help', 'you', 'you', 'should', 'visit', 'to', 'a', 'doctor', 'you', 'must', 'make', 'an', 'appointment', 'the', 'fax', 'machine', 'is', 'broken', 'players', 'must', 'know', 'all', 'the', 'rules', 'a', 'dog', 'is', 'the', 'best', 'friend', 'of', 'a', 'man', 'would', 'you', 'like', 'to', 'come', 'to', 'my', 'house', 'february', 'has', 'an', 'extra', 'day', 'do', 'not', 'feel', 'too', 'bad', 'about', 'it', 'this', 'library', 'has', 'many', 'books', 'construction', 'makes', 'traveling', 'difficult', 'he', 'called', 'seven', 'times', 'that', 'is', 'a', 'very', 'odd', 'question', 'a', 'feeling', 'of', 'complete', 'exasperation', 'we', 'must', 'redouble', 'our', 'efforts', 'no', 'kissing', 'in', 'the', 'library', 'that', 'agreement', 'is', 'rife', 'with', 'problems', 'vote', 'according', 'to', 'your', 'conscience', 'my', 'favourite', 'sport', 'is', 'racketball', 'sad', 'to', 'hear', 'that', 'news', 'the', 'gun', 'discharged', 'by', 'accident', 'one', 'of', 'the', 'poorest', 'nations', 'the', 'algorithm', 'is', 'too', 'complicated', 'your', 'presentation', 'was', 'inspiring', 'that', 'land', 'is', 'owned', 'by', 'the', 'government', 'burglars', 'never', 'leave', 'their', 'business', 'card', 'the', 'fire', 'blazed', 'all', 'weekend', 'if', 'diplomacy', 'does', 'not', 'work', 'please', 'keep', 'this', 'confidential', 'the', 'rationale', 'behind', 'the', 'decision', 'the', 'cat', 'has', 'a', 'pleasant', 'temperament', 'our', 'housekeeper', 'does', 'a', 'thorough', 'job', 'her', 'majesty', 'visited', 'our', 'country', 'handicapped', 'persons', 'need', 'consideration', 'these', 'barracks', 'are', 'big', 'enough', 'sing', 'the', 'gospel', 'and', 'the', 'blues', 'he', 'underwent', 'triple', 'bypass', 'surgery', 'the', 'hopes', 'of', 'a', 'new', 'organization', 'peering', 'through', 'a', 'small', 'hole', 'rapidly', 'running', 'short', 'on', 'words', 'it', 'is', 'difficult', 'to', 'concentrate', 'give', 'me', 'one', 'spoonful', 'of', 'coffee', 'two', 'or', 'three', 'cups', 'of', 'coffee', 'just', 'like', 'it', 'says', 'on', 'the', 'can', 'companies', 'announce', 'a', 'merger', 'electric', 'cars', 'need', 'big', 'fuel', 'cells', 'the', 'plug', 'does', 'not', 'fit', 'the', 'socket', 'drugs', 'should', 'be', 'avoided', 'the', 'most', 'beautiful', 'sunset', 'we', 'dine', 'out', 'on', 'the', 'weekends', 'get', 'aboard', 'the', 'ship', 'is', 'leaving', 'the', 'water', 'was', 'monitored', 'daily', 'he', 'watched', 'in', 'astonishment', 'a', 'big', 'scratch', 'on', 'the', 'tabletop', 'salesmen', 'must', 'make', 'their', 'monthly', 'quota', 'saving', 'that', 'child', 'was', 'an', 'heroic', 'effort', 'granite', 'is', 'the', 'hardest', 'of', 'all', 'rocks', 'bring', 'the', 'offenders', 'to', 'justice', 'every', 'saturday', 'he', 'folds', 'the', 'laundry', 'careless', 'driving', 'results', 'in', 'a', 'fine', 'microscopes', 'make', 'small', 'things', 'look', 'big', 'a', 'coupon', 'for', 'a', 'free', 'sample', 'fine', 'but', 'only', 'in', 'moderation', 'a', 'subject', 'one', 'can', 'really', 'enjoy', 'important', 'for', 'political', 'parties', 'that', 'sticker', 'needs', 'to', 'be', 'validated', 'the', 'fire', 'raged', 'for', 'an', 'entire', 'month', 'one', 'never', 'takes', 'too', 'many', 'precautions', 'we', 'have', 'enough', 'witnesses', 'labour', 'unions', 'know', 'how', 'to', 'organize', 'people', 'blow', 'their', 'horn', 'a', 'lot', 'a', 'correction', 'had', 'to', 'be', 'published', 'i', 'like', 'baroque', 'and', 'classical', 'music', 'the', 'proprietor', 'was', 'unavailable', 'be', 'discreet', 'about', 'your', 'meeting', 'meet', 'tomorrow', 'in', 'the', 'lavatory', 'suburbs', 'are', 'sprawling', 'up', 'everywhere', 'shivering', 'is', 'one', 'way', 'to', 'keep', 'warm', 'dolphins', 'leap', 'high', 'out', 'of', 'the', 'water', 'try', 'to', 'enjoy', 'your', 'maternity', 'leave', 'the', 'ventilation', 'system', 'is', 'broken', 'dinosaurs', 'have', 'been', 'extinct', 'for', 'ages', 'an', 'inefficient', 'way', 'to', 'heat', 'a', 'house', 'the', 'bus', 'was', 'very', 'crowded', 'an', 'injustice', 'is', 'committed', 'every', 'day', 'the', 'coronation', 'was', 'very', 'exciting', 'look', 'in', 'the', 'syllabus', 'for', 'the', 'course', 'rectangular', 'objects', 'have', 'four', 'sides', 'prescription', 'drugs', 'require', 'a', 'note', 'the', 'insulation', 'is', 'not', 'working', 'nothing', 'finer', 'than', 'discovering', 'a', 'treasure', 'our', 'life', 'expectancy', 'has', 'increased', 'the', 'cream', 'rises', 'to', 'the', 'top', 'the', 'high', 'waves', 'will', 'swamp', 'us', 'the', 'treasurer', 'must', 'balance', 'her', 'books', 'completely', 'sold', 'out', 'of', 'that', 'the', 'location', 'of', 'the', 'crime', 'the', 'chancellor', 'was', 'very', 'boring', 'the', 'accident', 'scene', 'is', 'a', 'shrine', 'for', 'fans', 'a', 'tumor', 'is', 'ok', 'provided', 'it', 'is', 'benign', 'please', 'take', 'a', 'bath', 'this', 'month', 'rent', 'is', 'paid', 'at', 'the', 'beginning', 'of', 'the', 'month', 'for', 'murder', 'you', 'get', 'a', 'long', 'prison', 'sentence', 'a', 'much', 'higher', 'risk', 'of', 'getting', 'cancer', 'quit', 'while', 'you', 'are', 'ahead', 'knee', 'bone', 'is', 'connected', 'to', 'the', 'thigh', 'bone', 'safe', 'to', 'walk', 'the', 'streets', 'in', 'the', 'evening', 'luckily', 'my', 'wallet', 'was', 'found', 'one', 'hour', 'is', 'allotted', 'for', 'questions', 'so', 'you', 'think', 'you', 'deserve', 'a', 'raise', 'they', 'watched', 'the', 'entire', 'movie', 'good', 'jobs', 'for', 'those', 'with', 'education', 'jumping', 'right', 'out', 'of', 'the', 'water', 'the', 'trains', 'are', 'always', 'late', 'sit', 'at', 'the', 'front', 'of', 'the', 'bus', 'do', 'you', 'prefer', 'a', 'window', 'seat', 'the', 'food', 'at', 'this', 'restaurant', 'canada', 'has', 'ten', 'provinces', 'the', 'elevator', 'door', 'appears', 'to', 'be', 'stuck', 'raindrops', 'keep', 'falling', 'on', 'my', 'head', 'spill', 'coffee', 'on', 'the', 'carpet', 'an', 'excellent', 'way', 'to', 'communicate', 'with', 'each', 'step', 'forward', 'faster', 'than', 'a', 'speeding', 'bullet', 'wishful', 'thinking', 'is', 'fine', 'nothing', 'wrong', 'with', 'his', 'style', 'arguing', 'with', 'the', 'boss', 'is', 'futile', 'taking', 'the', 'train', 'is', 'usually', 'faster', 'what', 'goes', 'up', 'must', 'come', 'down', 'be', 'persistent', 'to', 'win', 'a', 'strike', 'presidents', 'drive', 'expensive', 'cars', 'the', 'stock', 'exchange', 'dipped', 'why', 'do', 'you', 'ask', 'silly', 'questions', 'that', 'is', 'a', 'very', 'nasty', 'cut', 'what', 'to', 'do', 'when', 'the', 'oil', 'runs', 'dry', 'learn', 'to', 'walk', 'before', 'you', 'run', 'insurance', 'is', 'important', 'for', 'bad', 'drivers', 'traveling', 'to', 'conferences', 'is', 'fun', 'do', 'you', 'get', 'nervous', 'when', 'you', 'speak', 'pumping', 'helps', 'if', 'the', 'roads', 'are', 'slippery', 'parking', 'tickets', 'can', 'be', 'challenged', 'apartments', 'are', 'too', 'expensive', 'find', 'a', 'nearby', 'parking', 'spot', 'gun', 'powder', 'must', 'be', 'handled', 'with', 'care', 'just', 'what', 'the', 'doctor', 'ordered', 'a', 'rattle', 'snake', 'is', 'very', 'poisonous', 'weeping', 'willows', 'are', 'found', 'near', 'water', 'i', 'cannot', 'believe', 'i', 'ate', 'the', 'whole', 'thing', 'the', 'biggest', 'hamburger', 'i', 'have', 'ever', 'seen', 'gamblers', 'eventually', 'loose', 'their', 'shirts', 'exercise', 'is', 'good', 'for', 'the', 'mind', 'irregular', 'verbs', 'are', 'the', 'hardest', 'to', 'learn', 'they', 'might', 'find', 'your', 'comment', 'offensive', 'tell', 'a', 'lie', 'and', 'your', 'nose', 'will', 'grow', 'an', 'enlarged', 'nose', 'suggests', 'you', 'are', 'a', 'liar', 'lie', 'detector', 'tests', 'never', 'work', 'do', 'not', 'lie', 'in', 'court', 'or', 'else', 'most', 'judges', 'are', 'very', 'honest', 'only', 'an', 'idiot', 'would', 'lie', 'in', 'court', 'important', 'news', 'always', 'seems', 'to', 'be', 'late', 'please', 'try', 'to', 'be', 'home', 'before', 'midnight', 'if', 'you', 'come', 'home', 'late', 'the', 'doors', 'are', 'locked', 'dormitory', 'doors', 'are', 'locked', 'at', 'midnight', 'staying', 'up', 'all', 'night', 'is', 'a', 'bad', 'idea', 'you', 'are', 'a', 'capitalist', 'pig', 'motivational', 'seminars', 'make', 'me', 'sick', 'questioning', 'the', 'wisdom', 'of', 'the', 'courts', 'rejection', 'letters', 'are', 'discouraging', 'the', 'first', 'time', 'he', 'tried', 'to', 'swim', 'that', 'referendum', 'asked', 'a', 'silly', 'question', 'a', 'steep', 'learning', 'curve', 'in', 'riding', 'a', 'unicycle', 'a', 'good', 'stimulus', 'deserves', 'a', 'good', 'response', 'everybody', 'looses', 'in', 'custody', 'battles', 'put', 'garbage', 'in', 'an', 'abandoned', 'mine', 'employee', 'recruitment', 'takes', 'a', 'lot', 'of', 'effort', 'experience', 'is', 'hard', 'to', 'come', 'by', 'everyone', 'wants', 'to', 'win', 'the', 'lottery', 'the', 'picket', 'line', 'gives', 'me', 'the', 'chills', '']\n"
     ]
    },
    {
     "ename": "TypeError",
     "evalue": "'list' object is not callable",
     "output_type": "error",
     "traceback": [
      "\u001b[0;31m---------------------------------------------------------------------------\u001b[0m",
      "\u001b[0;31mTypeError\u001b[0m                                 Traceback (most recent call last)",
      "\u001b[1;32m/Users/romanbeier/Documents/Education/Master/TU Wien/04-Master-SoSe23/Masterthesis/Code/tip-top-typing/demo.ipynb Cell 14\u001b[0m line \u001b[0;36m7\n\u001b[1;32m      <a href='vscode-notebook-cell:/Users/romanbeier/Documents/Education/Master/TU%20Wien/04-Master-SoSe23/Masterthesis/Code/tip-top-typing/demo.ipynb#X20sZmlsZQ%3D%3D?line=4'>5</a>\u001b[0m     language\u001b[39m.\u001b[39mextend(words)\n\u001b[1;32m      <a href='vscode-notebook-cell:/Users/romanbeier/Documents/Education/Master/TU%20Wien/04-Master-SoSe23/Masterthesis/Code/tip-top-typing/demo.ipynb#X20sZmlsZQ%3D%3D?line=5'>6</a>\u001b[0m \u001b[39mprint\u001b[39m(language)\n\u001b[0;32m----> <a href='vscode-notebook-cell:/Users/romanbeier/Documents/Education/Master/TU%20Wien/04-Master-SoSe23/Masterthesis/Code/tip-top-typing/demo.ipynb#X20sZmlsZQ%3D%3D?line=6'>7</a>\u001b[0m language \u001b[39m=\u001b[39m \u001b[39mlist\u001b[39;49m(\u001b[39mset\u001b[39;49m(language))\n",
      "\u001b[0;31mTypeError\u001b[0m: 'list' object is not callable"
     ]
    }
   ],
   "source": [
    "language = []\n",
    "with open(\"phrases/phrases2.txt\", \"r\") as file:\n",
    "    content_without_newlines = ''.join(file.readlines()).replace('\\n', ' ')\n",
    "    words = content_without_newlines.split(\" \")\n",
    "    language.extend(words)\n",
    "print(language)\n",
    "language = list(set(language))"
   ]
  },
  {
   "cell_type": "code",
   "execution_count": 31,
   "metadata": {},
   "outputs": [
    {
     "ename": "AttributeError",
     "evalue": "'_io.TextIOWrapper' object has no attribute 'splitlines'",
     "output_type": "error",
     "traceback": [
      "\u001b[0;31m---------------------------------------------------------------------------\u001b[0m",
      "\u001b[0;31mAttributeError\u001b[0m                            Traceback (most recent call last)",
      "\u001b[1;32m/Users/romanbeier/Documents/Education/Master/TU Wien/04-Master-SoSe23/Masterthesis/Code/tip-top-typing/demo.ipynb Cell 14\u001b[0m line \u001b[0;36m3\n\u001b[1;32m      <a href='vscode-notebook-cell:/Users/romanbeier/Documents/Education/Master/TU%20Wien/04-Master-SoSe23/Masterthesis/Code/tip-top-typing/demo.ipynb#X16sZmlsZQ%3D%3D?line=0'>1</a>\u001b[0m LANGUAGE \u001b[39m=\u001b[39m []\n\u001b[1;32m      <a href='vscode-notebook-cell:/Users/romanbeier/Documents/Education/Master/TU%20Wien/04-Master-SoSe23/Masterthesis/Code/tip-top-typing/demo.ipynb#X16sZmlsZQ%3D%3D?line=1'>2</a>\u001b[0m \u001b[39mwith\u001b[39;00m \u001b[39mopen\u001b[39m(\u001b[39m\"\u001b[39m\u001b[39mphrases/phrases2.txt\u001b[39m\u001b[39m\"\u001b[39m, \u001b[39m\"\u001b[39m\u001b[39mr\u001b[39m\u001b[39m\"\u001b[39m) \u001b[39mas\u001b[39;00m f:\n\u001b[0;32m----> <a href='vscode-notebook-cell:/Users/romanbeier/Documents/Education/Master/TU%20Wien/04-Master-SoSe23/Masterthesis/Code/tip-top-typing/demo.ipynb#X16sZmlsZQ%3D%3D?line=2'>3</a>\u001b[0m     phrases \u001b[39m=\u001b[39m f\u001b[39m.\u001b[39;49msplitlines()\n\u001b[1;32m      <a href='vscode-notebook-cell:/Users/romanbeier/Documents/Education/Master/TU%20Wien/04-Master-SoSe23/Masterthesis/Code/tip-top-typing/demo.ipynb#X16sZmlsZQ%3D%3D?line=3'>4</a>\u001b[0m     \u001b[39mfor\u001b[39;00m phrase \u001b[39min\u001b[39;00m phrases:\n\u001b[1;32m      <a href='vscode-notebook-cell:/Users/romanbeier/Documents/Education/Master/TU%20Wien/04-Master-SoSe23/Masterthesis/Code/tip-top-typing/demo.ipynb#X16sZmlsZQ%3D%3D?line=4'>5</a>\u001b[0m         LANGUAGE\u001b[39m.\u001b[39mextend(phrase\u001b[39m.\u001b[39msplit(\u001b[39m\"\u001b[39m\u001b[39m \u001b[39m\u001b[39m\"\u001b[39m))\n",
      "\u001b[0;31mAttributeError\u001b[0m: '_io.TextIOWrapper' object has no attribute 'splitlines'"
     ]
    }
   ],
   "source": [
    "LANGUAGE = []\n",
    "with open(\"phrases/phrases2.txt\", \"r\") as f:\n",
    "    content_without_newlines = ''.join(f.read().splitlines())\n",
    "LANGUAGE = list(set(LANGUAGE)) # remove duplicates\n",
    "\n"
   ]
  }
 ],
 "metadata": {
  "kernelspec": {
   "display_name": "Python 3",
   "language": "python",
   "name": "python3"
  },
  "language_info": {
   "codemirror_mode": {
    "name": "ipython",
    "version": 3
   },
   "file_extension": ".py",
   "mimetype": "text/x-python",
   "name": "python",
   "nbconvert_exporter": "python",
   "pygments_lexer": "ipython3",
   "version": "3.11.4"
  },
  "orig_nbformat": 4
 },
 "nbformat": 4,
 "nbformat_minor": 2
}
