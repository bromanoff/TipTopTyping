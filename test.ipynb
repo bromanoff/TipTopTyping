{
 "cells": [
  {
   "cell_type": "code",
   "execution_count": 1,
   "metadata": {},
   "outputs": [],
   "source": [
    "from trie import Trie\n",
    "\n",
    "LANGUAGE = [\"hut\", \"haus\", \"haut\", \"mut\", \"maus\", \"maut\", \"mann\"]\n",
    "\n",
    "trie = Trie()\n",
    "trie.extend(LANGUAGE)\n",
    "    "
   ]
  },
  {
   "cell_type": "code",
   "execution_count": 2,
   "metadata": {},
   "outputs": [
    {
     "name": "stdout",
     "output_type": "stream",
     "text": [
      "{'h': TrieNode<h>, 'm': TrieNode<m>}\n",
      "{'u': TrieNode<u>, 'a': TrieNode<a>}\n"
     ]
    }
   ],
   "source": [
    "# print(trie.TrieNode(\"h\")._children)\n",
    "print(trie._root._children)\n",
    "print(trie._root._children[\"h\"]._children)"
   ]
  },
  {
   "cell_type": "code",
   "execution_count": 3,
   "metadata": {},
   "outputs": [
    {
     "name": "stdout",
     "output_type": "stream",
     "text": [
      "{'s': TrieNode<s>, 't': TrieNode<t>}\n"
     ]
    }
   ],
   "source": [
    "print(trie._root._children[\"h\"]._children[\"a\"]._children[\"u\"]._children)"
   ]
  },
  {
   "cell_type": "code",
   "execution_count": 4,
   "metadata": {},
   "outputs": [],
   "source": [
    "print(trie.children(\"h\"))"
   ]
  },
  {
   "cell_type": "code",
   "execution_count": 5,
   "metadata": {},
   "outputs": [
    {
     "name": "stdout",
     "output_type": "stream",
     "text": [
      "u\n"
     ]
    }
   ],
   "source": [
    "print(trie.children(\"hau\"))"
   ]
  }
 ],
 "metadata": {
  "kernelspec": {
   "display_name": "Python 3",
   "language": "python",
   "name": "python3"
  },
  "language_info": {
   "codemirror_mode": {
    "name": "ipython",
    "version": 3
   },
   "file_extension": ".py",
   "mimetype": "text/x-python",
   "name": "python",
   "nbconvert_exporter": "python",
   "pygments_lexer": "ipython3",
   "version": "3.10.4"
  },
  "orig_nbformat": 4
 },
 "nbformat": 4,
 "nbformat_minor": 2
}
