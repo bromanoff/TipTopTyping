{
 "cells": [
  {
   "cell_type": "code",
   "execution_count": 1,
   "metadata": {},
   "outputs": [],
   "source": [
    "from trie import Trie\n",
    "\n",
    "LANGUAGE = [\"hut\", \"haus\", \"haut\", \"mut\", \"maus\", \"maut\", \"mann\"]\n",
    "\n",
    "trie = Trie()\n",
    "trie.extend(LANGUAGE)\n",
    "    "
   ]
  },
  {
   "cell_type": "code",
   "execution_count": 2,
   "metadata": {},
   "outputs": [
    {
     "name": "stdout",
     "output_type": "stream",
     "text": [
      "{'h': TrieNode<h>, 'm': TrieNode<m>}\n",
      "{'u': TrieNode<u>, 'a': TrieNode<a>}\n"
     ]
    }
   ],
   "source": [
    "# print(trie.TrieNode(\"h\")._children)\n",
    "print(trie._root._children)\n",
    "print(trie._root._children[\"h\"]._children)"
   ]
  },
  {
   "cell_type": "code",
   "execution_count": 3,
   "metadata": {},
   "outputs": [
    {
     "name": "stdout",
     "output_type": "stream",
     "text": [
      "{'s': TrieNode<s>, 't': TrieNode<t>}\n"
     ]
    }
   ],
   "source": [
    "print(trie._root._children[\"h\"]._children[\"a\"]._children[\"u\"]._children)"
   ]
  },
  {
   "cell_type": "code",
   "execution_count": 4,
   "metadata": {},
   "outputs": [
    {
     "name": "stdout",
     "output_type": "stream",
     "text": [
      "{'h': ['u', 'a']}\n"
     ]
    }
   ],
   "source": [
    "print(trie.children(\"h\"))"
   ]
  },
  {
   "cell_type": "code",
   "execution_count": 5,
   "metadata": {},
   "outputs": [
    {
     "name": "stdout",
     "output_type": "stream",
     "text": [
      "{'u': ['s', 't']}\n"
     ]
    }
   ],
   "source": [
    "print(trie.children(\"hau\"))"
   ]
  },
  {
   "cell_type": "code",
   "execution_count": 16,
   "metadata": {},
   "outputs": [
    {
     "ename": "AttributeError",
     "evalue": "'list' object has no attribute 'replace'",
     "output_type": "error",
     "traceback": [
      "\u001b[0;31m---------------------------------------------------------------------------\u001b[0m",
      "\u001b[0;31mAttributeError\u001b[0m                            Traceback (most recent call last)",
      "\u001b[1;32m/Users/romanbeier/Documents/Education/Master/TU Wien/04-Master-SoSe23/Masterthesis/Code/mediapipe_test/test.ipynb Cell 6\u001b[0m line \u001b[0;36m<cell line: 4>\u001b[0;34m()\u001b[0m\n\u001b[1;32m      <a href='vscode-notebook-cell:/Users/romanbeier/Documents/Education/Master/TU%20Wien/04-Master-SoSe23/Masterthesis/Code/mediapipe_test/test.ipynb#W5sZmlsZQ%3D%3D?line=3'>4</a>\u001b[0m \u001b[39mwith\u001b[39;00m \u001b[39mopen\u001b[39m(\u001b[39m\"\u001b[39m\u001b[39mfortune-cookies.txt\u001b[39m\u001b[39m\"\u001b[39m, \u001b[39m\"\u001b[39m\u001b[39mr\u001b[39m\u001b[39m\"\u001b[39m) \u001b[39mas\u001b[39;00m f:\n\u001b[1;32m      <a href='vscode-notebook-cell:/Users/romanbeier/Documents/Education/Master/TU%20Wien/04-Master-SoSe23/Masterthesis/Code/mediapipe_test/test.ipynb#W5sZmlsZQ%3D%3D?line=4'>5</a>\u001b[0m     line \u001b[39m=\u001b[39m f\u001b[39m.\u001b[39mreadlines()\n\u001b[0;32m----> <a href='vscode-notebook-cell:/Users/romanbeier/Documents/Education/Master/TU%20Wien/04-Master-SoSe23/Masterthesis/Code/mediapipe_test/test.ipynb#W5sZmlsZQ%3D%3D?line=5'>6</a>\u001b[0m     line\u001b[39m.\u001b[39;49mreplace(\u001b[39m\"\u001b[39m\u001b[39m.\u001b[39m\u001b[39m\"\u001b[39m, \u001b[39m\"\u001b[39m\u001b[39m\"\u001b[39m)\n",
      "\u001b[0;31mAttributeError\u001b[0m: 'list' object has no attribute 'replace'"
     ]
    }
   ],
   "source": [
    "# write a program to delete all punctuations from fortune-cookies.txt\n",
    "# and write the result to fortune-cookies-clean.txt\n",
    "\n",
    "with open(\"fortune-cookies.txt\", \"r\") as f:\n",
    "    line = f.readlines()\n",
    "    for phrase in line:\n",
    "        phrase.replace(\".\", \"\")\n",
    "            \n",
    "\n"
   ]
  },
  {
   "cell_type": "code",
   "execution_count": 14,
   "metadata": {},
   "outputs": [],
   "source": [
    "file = open('fortune-cookies.txt', 'r')\n",
    "\n",
    "punctuation = [\".\", \",\", \"!\", \"?\", \":\", \";\", \"-\", \"…\", \"(\", \")\", \"[\", \"]\", \"{\", \"}\", \"'\", '\"' ]\n",
    " \n",
    "while 1:\n",
    "     \n",
    "    # read by character\n",
    "    char = file.read(1)         \n",
    "    if not char:\n",
    "        break\n",
    "         \n",
    "    if char in punctuation:\n",
    "                char.replace(char, \"\")\n",
    " \n",
    "file.close()"
   ]
  }
 ],
 "metadata": {
  "kernelspec": {
   "display_name": "Python 3",
   "language": "python",
   "name": "python3"
  },
  "language_info": {
   "codemirror_mode": {
    "name": "ipython",
    "version": 3
   },
   "file_extension": ".py",
   "mimetype": "text/x-python",
   "name": "python",
   "nbconvert_exporter": "python",
   "pygments_lexer": "ipython3",
   "version": "3.10.4"
  },
  "orig_nbformat": 4
 },
 "nbformat": 4,
 "nbformat_minor": 2
}
