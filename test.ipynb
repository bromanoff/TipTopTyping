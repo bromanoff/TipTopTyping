{
 "cells": [
  {
   "cell_type": "code",
   "execution_count": 1,
   "metadata": {},
   "outputs": [],
   "source": [
    "from trie import Trie\n",
    "\n",
    "LANGUAGE = [\"hut\", \"haus\", \"haut\", \"mut\", \"maus\", \"maut\", \"mann\"]\n",
    "\n",
    "trie = Trie()\n",
    "trie.extend(LANGUAGE)\n",
    "    "
   ]
  },
  {
   "cell_type": "code",
   "execution_count": 2,
   "metadata": {},
   "outputs": [
    {
     "name": "stdout",
     "output_type": "stream",
     "text": [
      "{'h': TrieNode<h>, 'm': TrieNode<m>}\n",
      "{'u': TrieNode<u>, 'a': TrieNode<a>}\n"
     ]
    }
   ],
   "source": [
    "# print(trie.TrieNode(\"h\")._children)\n",
    "print(trie._root._children)\n",
    "print(trie._root._children[\"h\"]._children)"
   ]
  },
  {
   "cell_type": "code",
   "execution_count": 3,
   "metadata": {},
   "outputs": [
    {
     "name": "stdout",
     "output_type": "stream",
     "text": [
      "{'s': TrieNode<s>, 't': TrieNode<t>}\n"
     ]
    }
   ],
   "source": [
    "print(trie._root._children[\"h\"]._children[\"a\"]._children[\"u\"]._children)"
   ]
  },
  {
   "cell_type": "code",
   "execution_count": 4,
   "metadata": {},
   "outputs": [
    {
     "name": "stdout",
     "output_type": "stream",
     "text": [
      "{'h': ['u', 'a']}\n"
     ]
    }
   ],
   "source": [
    "print(trie.children(\"h\"))"
   ]
  },
  {
   "cell_type": "code",
   "execution_count": 5,
   "metadata": {},
   "outputs": [
    {
     "name": "stdout",
     "output_type": "stream",
     "text": [
      "{'u': ['s', 't']}\n"
     ]
    }
   ],
   "source": [
    "print(trie.children(\"hau\"))"
   ]
  },
  {
   "cell_type": "code",
   "execution_count": 17,
   "metadata": {},
   "outputs": [],
   "source": [
    "# write a program to delete all punctuations from fortune-cookies.txt\n",
    "# and write the result to fortune-cookies-clean.txt\n",
    "\n",
    "with open(\"fortune-cookies.txt\", \"r\") as f:\n",
    "    line = f.readlines()\n",
    "    for phrase in line:\n",
    "        phrase.replace(\".\", \"\")\n",
    "            \n",
    "\n"
   ]
  },
  {
   "cell_type": "code",
   "execution_count": 18,
   "metadata": {},
   "outputs": [],
   "source": [
    "file = open('fortune-cookies.txt', 'r')\n",
    "\n",
    "punctuation = [\".\", \",\", \"!\", \"?\", \":\", \";\", \"-\", \"…\", \"(\", \")\", \"[\", \"]\", \"{\", \"}\", \"'\", '\"' ]\n",
    " \n",
    "while 1:\n",
    "     \n",
    "    # read by character\n",
    "    char = file.read(1)         \n",
    "    if not char:\n",
    "        break\n",
    "         \n",
    "    if char in punctuation:\n",
    "                char.replace(char, \"\")\n",
    " \n",
    "file.close()"
   ]
  },
  {
   "cell_type": "code",
   "execution_count": 23,
   "metadata": {},
   "outputs": [],
   "source": [
    "from PIL import Image, ImageDraw, ImageFont\n",
    "\n",
    "# get an image\n",
    "with Image.open(\"hand-landmarks.png\").convert(\"RGBA\") as base:\n",
    "\n",
    "    # make a blank image for the text, initialized to transparent text color\n",
    "    txt = Image.new(\"RGBA\", base.size, (255, 255, 255, 0))\n",
    "\n",
    "    # get a font\n",
    "    fnt = ImageFont.truetype(\"RobotoMono-Regular.ttf\", 40)\n",
    "    # get a drawing context\n",
    "    d = ImageDraw.Draw(txt)\n",
    "\n",
    "    # draw text, half opacity\n",
    "    d.text((10, 10), \"Hello\", font=fnt, fill=(10, 10, 10, 128))\n",
    "    # draw text, full opacity\n",
    "    d.text((10, 60), \"World\", font=fnt, fill=(10, 10, 10, 255))\n",
    "\n",
    "    out = Image.alpha_composite(base, txt)\n",
    "\n",
    "    out.show()"
   ]
  }
 ],
 "metadata": {
  "kernelspec": {
   "display_name": "Python 3",
   "language": "python",
   "name": "python3"
  },
  "language_info": {
   "codemirror_mode": {
    "name": "ipython",
    "version": 3
   },
   "file_extension": ".py",
   "mimetype": "text/x-python",
   "name": "python",
   "nbconvert_exporter": "python",
   "pygments_lexer": "ipython3",
   "version": "3.10.4"
  },
  "orig_nbformat": 4
 },
 "nbformat": 4,
 "nbformat_minor": 2
}
