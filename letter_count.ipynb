{
 "cells": [
  {
   "cell_type": "code",
   "execution_count": 10,
   "metadata": {},
   "outputs": [
    {
     "name": "stdout",
     "output_type": "stream",
     "text": [
      "{'m': 296, 'y': 303, ' ': 2214, 'w': 235, 'a': 922, 't': 1080, 'c': 351, 'h': 540, 'f': 248, 'e': 1523, 'l': 484, 'i': 879, 'n': 744, 'r': 791, 'p': 250, 'v': 154, 'g': 276, 'd': 403, 'o': 1004, 's': 799, 'b': 178, 'u': 390, 'k': 141, 'z': 13, 'j': 35, 'q': 26, 'x': 34}\n"
     ]
    }
   ],
   "source": [
    "count = {}\n",
    "\n",
    "with open(\"phrases/phrases2.txt\", \"r\") as f:\n",
    "    for line in f:\n",
    "        for letter in line:\n",
    "            if letter in count:\n",
    "                count[letter] += 1\n",
    "            else:\n",
    "                count[letter] = 1 \n",
    "                \n",
    "del count['\\n']\n",
    "print(count)"
   ]
  },
  {
   "cell_type": "code",
   "execution_count": 11,
   "metadata": {},
   "outputs": [
    {
     "name": "stdout",
     "output_type": "stream",
     "text": [
      "[(' ', 2214),\n",
      " ('e', 1523),\n",
      " ('t', 1080),\n",
      " ('o', 1004),\n",
      " ('a', 922),\n",
      " ('i', 879),\n",
      " ('s', 799),\n",
      " ('r', 791),\n",
      " ('n', 744),\n",
      " ('h', 540),\n",
      " ('l', 484),\n",
      " ('d', 403),\n",
      " ('u', 390),\n",
      " ('c', 351),\n",
      " ('y', 303),\n",
      " ('m', 296),\n",
      " ('g', 276),\n",
      " ('p', 250),\n",
      " ('f', 248),\n",
      " ('w', 235),\n",
      " ('b', 178),\n",
      " ('v', 154),\n",
      " ('k', 141),\n",
      " ('j', 35),\n",
      " ('x', 34),\n",
      " ('q', 26),\n",
      " ('z', 13)]\n"
     ]
    }
   ],
   "source": [
    "import pprint\n",
    "\n",
    "# sort count by value\n",
    "sorted_count = sorted(count.items(), key=lambda x: x[1], reverse=True)\n",
    "pprint.pprint(sorted_count)"
   ]
  }
 ],
 "metadata": {
  "kernelspec": {
   "display_name": "Python 3",
   "language": "python",
   "name": "python3"
  },
  "language_info": {
   "codemirror_mode": {
    "name": "ipython",
    "version": 3
   },
   "file_extension": ".py",
   "mimetype": "text/x-python",
   "name": "python",
   "nbconvert_exporter": "python",
   "pygments_lexer": "ipython3",
   "version": "3.10.4"
  },
  "orig_nbformat": 4
 },
 "nbformat": 4,
 "nbformat_minor": 2
}
