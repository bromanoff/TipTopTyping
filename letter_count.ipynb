{
 "cells": [
  {
   "cell_type": "code",
   "execution_count": 25,
   "metadata": {},
   "outputs": [
    {
     "name": "stdout",
     "output_type": "stream",
     "text": [
      "12081\n",
      "{'l': [484, 4.01], 't': [1080, 8.94], 'g': [276, 2.28], 'r': [790, 6.54], 'o': [1003, 8.3], 'x': [34, 0.28], 'z': [13, 0.11], 'c': [350, 2.9], 'b': [178, 1.47], 'j': [35, 0.29], 'm': [294, 2.43], 'w': [235, 1.95], 'y': [300, 2.48], 'v': [154, 1.27], 'p': [250, 2.07], 'e': [1521, 12.59], 'f': [248, 2.05], 'u': [388, 3.21], 'i': [879, 7.28], 'q': [26, 0.22], 'k': [139, 1.15], 'd': [402, 3.33], 'n': [744, 6.16], 's': [798, 6.61], 'a': [920, 7.62], 'h': [540, 4.47]}\n"
     ]
    }
   ],
   "source": [
    "count = {}\n",
    "\n",
    "with open(\"phrases/phrases2.txt\", \"r\") as f:\n",
    "    for line in f:\n",
    "        for letter in line:\n",
    "            if letter in count:\n",
    "                count[letter] += 1\n",
    "            else:\n",
    "                count[letter] = 1 \n",
    "                \n",
    "del count['\\n']\n",
    "del count[' ']\n",
    "# print(count)\n",
    "\n",
    "# sum up all values of count\n",
    "chars_sum = 0\n",
    "for key, value in count.items():\n",
    "    chars_sum += value\n",
    "print(chars_sum)\n",
    "\n",
    "# devide each value by chars_sum\n",
    "percentage = {}\n",
    "for key, value in count.items():\n",
    "    percentage[key] = round(value / chars_sum * 100, 2)\n",
    "# print(percentage)\n",
    "\n",
    "# combine both dictionaries\n",
    "frequency = {key: [count.get(key, 0),  percentage.get(key, 0)] for key in set(count) | set(percentage)}\n",
    "print(frequency)\n",
    "\n",
    "\n"
   ]
  },
  {
   "cell_type": "code",
   "execution_count": 24,
   "metadata": {},
   "outputs": [
    {
     "name": "stdout",
     "output_type": "stream",
     "text": [
      "[('e', [1521, 12.59]),\n",
      " ('t', [1080, 8.94]),\n",
      " ('o', [1003, 8.3]),\n",
      " ('a', [920, 7.62]),\n",
      " ('i', [879, 7.28]),\n",
      " ('s', [798, 6.61]),\n",
      " ('r', [790, 6.54]),\n",
      " ('n', [744, 6.16]),\n",
      " ('h', [540, 4.47]),\n",
      " ('l', [484, 4.01]),\n",
      " ('d', [402, 3.33]),\n",
      " ('u', [388, 3.21]),\n",
      " ('c', [350, 2.9]),\n",
      " ('y', [300, 2.48]),\n",
      " ('m', [294, 2.43]),\n",
      " ('g', [276, 2.28]),\n",
      " ('p', [250, 2.07]),\n",
      " ('f', [248, 2.05]),\n",
      " ('w', [235, 1.95]),\n",
      " ('b', [178, 1.47]),\n",
      " ('v', [154, 1.27]),\n",
      " ('k', [139, 1.15]),\n",
      " ('j', [35, 0.29]),\n",
      " ('x', [34, 0.28]),\n",
      " ('q', [26, 0.22]),\n",
      " ('z', [13, 0.11])]\n",
      "[12081, 100.01000000000002]\n"
     ]
    }
   ],
   "source": [
    "import pprint\n",
    "\n",
    "# sort count by value\n",
    "sorted_char_frequency = sorted(frequency.items(), key=lambda x: x[1][0], reverse=True)\n",
    "pprint.pprint(sorted_char_frequency)\n",
    "\n",
    "sums = [0, 0]\n",
    "for key, value in sorted_char_frequency:\n",
    "    sums[0] += value[0]\n",
    "    sums[1] += value[1]\n",
    "print(sums)"
   ]
  }
 ],
 "metadata": {
  "kernelspec": {
   "display_name": "Python 3",
   "language": "python",
   "name": "python3"
  },
  "language_info": {
   "codemirror_mode": {
    "name": "ipython",
    "version": 3
   },
   "file_extension": ".py",
   "mimetype": "text/x-python",
   "name": "python",
   "nbconvert_exporter": "python",
   "pygments_lexer": "ipython3",
   "version": "3.10.4"
  },
  "orig_nbformat": 4
 },
 "nbformat": 4,
 "nbformat_minor": 2
}
